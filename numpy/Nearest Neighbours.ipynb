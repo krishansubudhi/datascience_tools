{
 "cells": [
  {
   "cell_type": "code",
   "execution_count": 82,
   "metadata": {},
   "outputs": [],
   "source": [
    "import numpy as np\n",
    "import matplotlib.pyplot as pp\n",
    "import seaborn as s"
   ]
  },
  {
   "cell_type": "code",
   "execution_count": 73,
   "metadata": {},
   "outputs": [
    {
     "data": {
      "text/plain": [
       "array([[0.70630566, 0.8875537 , 0.53323321, 0.29265788, 0.41692104,\n",
       "        0.73041968, 0.39573163, 0.78351297, 0.22116685, 0.74868895],\n",
       "       [0.05088021, 0.04349174, 0.7264973 , 0.84093348, 0.11679718,\n",
       "        0.06598883, 0.99244302, 0.75696684, 0.31832431, 0.50372   ]])"
      ]
     },
     "execution_count": 73,
     "metadata": {},
     "output_type": "execute_result"
    }
   ],
   "source": [
    "nums = np.random.rand(2,10)\n",
    "nums"
   ]
  },
  {
   "cell_type": "code",
   "execution_count": 74,
   "metadata": {},
   "outputs": [
    {
     "data": {
      "text/plain": [
       "<matplotlib.collections.PathCollection at 0x25a0c122ac8>"
      ]
     },
     "execution_count": 74,
     "metadata": {},
     "output_type": "execute_result"
    },
    {
     "data": {
      "image/png": "[encoded data removed]",
      "text/plain": [
       "<Figure size 432x288 with 1 Axes>"
      ]
     },
     "metadata": {},
     "output_type": "display_data"
    }
   ],
   "source": [
    "pp.scatter(nums[0],nums[1])"
   ]
  },
  {
   "cell_type": "code",
   "execution_count": 75,
   "metadata": {},
   "outputs": [
    {
     "name": "stdout",
     "output_type": "stream",
     "text": [
      "(2, 10, 1) (2, 1, 10) (2, 10, 10)\n",
      "squared sum shape =  (10, 10)\n"
     ]
    },
    {
     "data": {
      "text/plain": [
       "array([[0.00000000e+00, 3.29054432e-02, 4.86412513e-01, 7.95288646e-01,\n",
       "        8.80885008e-02, 8.09756297e-04, 9.82996743e-01, 5.04519287e-01,\n",
       "        3.06886006e-01, 2.06860218e-01],\n",
       "       [3.29054432e-02, 0.00000000e+00, 5.92039594e-01, 9.89814360e-01,\n",
       "        2.26868786e-01, 2.51972192e-02, 1.14239747e+00, 5.19871182e-01,\n",
       "        5.19604375e-01, 2.31093469e-01],\n",
       "       [4.86412513e-01, 5.92039594e-01, 0.00000000e+00, 7.09721295e-02,\n",
       "        3.85262755e-01, 4.75153943e-01, 8.96338128e-02, 6.35683488e-02,\n",
       "        2.63990598e-01, 9.60508992e-02],\n",
       "       [7.95288646e-01, 9.89814360e-01, 7.09721295e-02, 0.00000000e+00,\n",
       "        5.39814719e-01, 7.92174611e-01, 3.35793372e-02, 2.47989112e-01,\n",
       "        2.78231311e-01, 3.21677268e-01],\n",
       "       [8.80885008e-02, 2.26868786e-01, 3.85262755e-01, 5.39814719e-01,\n",
       "        0.00000000e+00, 1.00862884e-01, 7.67204631e-01, 5.44206831e-01,\n",
       "        7.89328897e-02, 2.59779219e-01],\n",
       "       [8.09756297e-04, 2.51972192e-02, 4.75153943e-01, 7.92174611e-01,\n",
       "        1.00862884e-01, 0.00000000e+00, 9.70333464e-01, 4.80269508e-01,\n",
       "        3.23011642e-01, 1.91942349e-01],\n",
       "       [9.82996743e-01, 1.14239747e+00, 8.96338128e-02, 3.35793372e-02,\n",
       "        7.67204631e-01, 9.70333464e-01, 0.00000000e+00, 2.05823399e-01,\n",
       "        4.84908892e-01, 3.63429060e-01],\n",
       "       [5.04519287e-01, 5.19871182e-01, 6.35683488e-02, 2.47989112e-01,\n",
       "        5.44206831e-01, 4.80269508e-01, 2.05823399e-01, 0.00000000e+00,\n",
       "        5.08640417e-01, 6.53466707e-02],\n",
       "       [3.06886006e-01, 5.19604375e-01, 2.63990598e-01, 2.78231311e-01,\n",
       "        7.89328897e-02, 3.23011642e-01, 4.84908892e-01, 5.08640417e-01,\n",
       "        0.00000000e+00, 3.12651130e-01],\n",
       "       [2.06860218e-01, 2.31093469e-01, 9.60508992e-02, 3.21677268e-01,\n",
       "        2.59779219e-01, 1.91942349e-01, 3.63429060e-01, 6.53466707e-02,\n",
       "        3.12651130e-01, 0.00000000e+00]])"
      ]
     },
     "execution_count": 75,
     "metadata": {},
     "output_type": "execute_result"
    }
   ],
   "source": [
    "#find distance of each point with one another\n",
    "print(nums[:,:,np.newaxis].shape, nums[:,np.newaxis].shape, (nums[:,:,np.newaxis]-nums[:,np.newaxis]).shape)\n",
    "diff = (nums[:,:,np.newaxis]-nums[:,np.newaxis])\n",
    "diff = diff **2\n",
    "squared_dist = np.sum(diff, axis = 0)\n",
    "print('squared sum shape = ', squared_dist.shape)\n",
    "squared_dist"
   ]
  },
  {
   "cell_type": "code",
   "execution_count": 76,
   "metadata": {},
   "outputs": [
    {
     "data": {
      "text/plain": [
       "array([[1, 0, 5, 4, 3, 2, 6, 7, 8, 9],\n",
       "       [1, 0, 5, 4, 3, 2, 6, 7, 8, 9],\n",
       "       [2, 7, 3, 6, 8, 9, 4, 5, 1, 0],\n",
       "       [3, 6, 2, 7, 8, 9, 4, 5, 1, 0],\n",
       "       [8, 4, 0, 5, 1, 9, 2, 3, 7, 6],\n",
       "       [1, 0, 5, 4, 3, 2, 6, 7, 8, 9],\n",
       "       [3, 6, 2, 7, 9, 8, 4, 5, 1, 0],\n",
       "       [7, 2, 9, 6, 3, 5, 0, 1, 8, 4],\n",
       "       [8, 4, 2, 3, 0, 5, 6, 7, 1, 9],\n",
       "       [9, 7, 2, 5, 0, 1, 6, 3, 8, 4]], dtype=int64)"
      ]
     },
     "execution_count": 76,
     "metadata": {},
     "output_type": "execute_result"
    }
   ],
   "source": [
    "#find the top two minimum distances using argsort/argpartition\n",
    "#np.argsort(squared_dist)\n",
    "nearest = np.argpartition(squared_dist,3,axis = 1)\n",
    "nearest"
   ]
  },
  {
   "cell_type": "code",
   "execution_count": 77,
   "metadata": {},
   "outputs": [
    {
     "data": {
      "text/plain": [
       "[(1, 3), (2, 4)]"
      ]
     },
     "execution_count": 77,
     "metadata": {},
     "output_type": "execute_result"
    }
   ],
   "source": [
    "list(zip([1,2],[3,4]))"
   ]
  },
  {
   "cell_type": "code",
   "execution_count": 107,
   "metadata": {},
   "outputs": [
    {
     "data": {
      "image/png": "[encoded data removed]",
      "text/plain": [
       "<Figure size 432x288 with 1 Axes>"
      ]
     },
     "metadata": {},
     "output_type": "display_data"
    }
   ],
   "source": [
    "s.set()\n",
    "pp.scatter(nums[0],nums[1],s=100,facecolor='none',edgecolors='red',linewidths=2)\n",
    "for i in range (nums.shape[1]):\n",
    "    \n",
    "    for j in nearest[i,:3]:\n",
    "        #print(list(zip(nums[:,i],nums[:,j])))\n",
    "        pp.plot(*zip(nums[:,i],nums[:,j]), color='C'+str(i))"
   ]
  },
  {
   "cell_type": "code",
   "execution_count": 79,
   "metadata": {},
   "outputs": [
    {
     "data": {
      "text/plain": [
       "[(0.7063056562718502, 0.8875537008445948),\n",
       " (0.05088021492844408, 0.04349174422242885)]"
      ]
     },
     "execution_count": 79,
     "metadata": {},
     "output_type": "execute_result"
    }
   ],
   "source": [
    "list(zip(nums[:,0].squeeze(),nums[:,1].squeeze()))"
   ]
  },
  {
   "cell_type": "code",
   "execution_count": 80,
   "metadata": {},
   "outputs": [
    {
     "data": {
      "text/plain": [
       "array([0.70630566, 0.05088021])"
      ]
     },
     "execution_count": 80,
     "metadata": {},
     "output_type": "execute_result"
    }
   ],
   "source": [
    "nums[:,0]"
   ]
  },
  {
   "cell_type": "code",
   "execution_count": null,
   "metadata": {},
   "outputs": [],
   "source": []
  }
 ],
 "metadata": {
  "kernelspec": {
   "display_name": "Python 3",
   "language": "python",
   "name": "python3"
  },
  "language_info": {
   "codemirror_mode": {
    "name": "ipython",
    "version": 3
   },
   "file_extension": ".py",
   "mimetype": "text/x-python",
   "name": "python",
   "nbconvert_exporter": "python",
   "pygments_lexer": "ipython3",
   "version": "3.6.5"
  }
 },
 "nbformat": 4,
 "nbformat_minor": 2
}
