{
 "cells": [
  {
   "cell_type": "code",
   "execution_count": 1,
   "metadata": {},
   "outputs": [],
   "source": [
    "a= 1"
   ]
  },
  {
   "cell_type": "code",
   "execution_count": 6,
   "metadata": {},
   "outputs": [],
   "source": [
    "import math"
   ]
  },
  {
   "cell_type": "code",
   "execution_count": 7,
   "metadata": {},
   "outputs": [
    {
     "data": {
      "text/plain": [
       "0.9092974268256817"
      ]
     },
     "execution_count": 7,
     "metadata": {},
     "output_type": "execute_result"
    }
   ],
   "source": [
    "math.sin(2)"
   ]
  },
  {
   "cell_type": "code",
   "execution_count": 8,
   "metadata": {},
   "outputs": [
    {
     "name": "stdout",
     "output_type": "stream",
     "text": [
      "1\n"
     ]
    }
   ],
   "source": [
    "print(a)"
   ]
  },
  {
   "cell_type": "code",
   "execution_count": 19,
   "metadata": {},
   "outputs": [
    {
     "data": {
      "text/plain": [
       "['',\n",
       " 'a= 1',\n",
       " \"x = 'hello'?\",\n",
       " \"'hello'?\",\n",
       " \"'hello'.?\",\n",
       " \"'hello'??\",\n",
       " 'import math',\n",
       " 'math.sin(2)',\n",
       " 'print(a)',\n",
       " 'In',\n",
       " 'Out',\n",
       " 'Out[7]',\n",
       " 'Out[11]',\n",
       " 'Out',\n",
       " \"get_ipython().run_line_magic('pinfo', 'Out')\",\n",
       " 'Out;',\n",
       " 'Out',\n",
       " 'Out',\n",
       " 'Out[16]',\n",
       " 'In']"
      ]
     },
     "execution_count": 19,
     "metadata": {},
     "output_type": "execute_result"
    }
   ],
   "source": [
    "In"
   ]
  },
  {
   "cell_type": "code",
   "execution_count": 15,
   "metadata": {},
   "outputs": [],
   "source": [
    "Out;"
   ]
  },
  {
   "cell_type": "code",
   "execution_count": 36,
   "metadata": {},
   "outputs": [
    {
     "data": {
      "text/plain": [
       "['.ipynb_checkpoints',\n",
       " 'basic.ipynb',\n",
       " 'Ex_Files_Intro_Analysis_Python',\n",
       " 'Ex_Files_Intro_Analysis_Python.zip']"
      ]
     },
     "execution_count": 36,
     "metadata": {},
     "output_type": "execute_result"
    }
   ],
   "source": [
    "import os\n",
    "os.listdir()"
   ]
  },
  {
   "cell_type": "code",
   "execution_count": 41,
   "metadata": {},
   "outputs": [
    {
     "name": "stdout",
     "output_type": "stream",
     "text": [
      "\n",
      "Active Connections\n",
      "\n",
      "  Proto  Local Address          Foreign Address        State\n",
      "  TCP    10.0.0.47:17026        52.114.128.33:https    ESTABLISHED\n",
      "  TCP    10.0.0.47:17082        a23-45-231-50:http     CLOSE_WAIT\n",
      "  TCP    10.0.0.47:17083        a23-45-229-46:https    CLOSE_WAIT\n",
      "  TCP    10.0.0.47:17084        a23-45-229-46:https    CLOSE_WAIT\n",
      "  TCP    10.0.0.47:17093        a23-45-229-46:https    CLOSE_WAIT\n",
      "  TCP    10.0.0.47:17098        a23-45-231-50:http     CLOSE_WAIT\n",
      "  TCP    10.0.0.47:17099        a23-45-231-50:http     CLOSE_WAIT\n",
      "  TCP    10.0.0.47:17100        a23-45-231-50:http     CLOSE_WAIT\n",
      "  TCP    10.0.0.47:17101        a23-45-228-133:http    CLOSE_WAIT\n",
      "  TCP    10.0.0.47:17102        a23-45-228-133:http    CLOSE_WAIT\n",
      "  TCP    10.0.0.47:17108        a23-45-231-50:http     CLOSE_WAIT\n",
      "  TCP    10.0.0.47:17109        a23-45-231-50:http     CLOSE_WAIT\n",
      "  TCP    10.0.0.47:17577        52.173.26.181:https    ESTABLISHED\n",
      "  TCP    10.0.0.47:17634        52.229.26.117:https    ESTABLISHED\n",
      "  TCP    10.0.0.47:27680        20.36.28.105:https     ESTABLISHED\n",
      "  TCP    10.0.0.47:27681        20.36.28.105:https     ESTABLISHED\n",
      "  TCP    10.0.0.47:27683        13.85.72.129:https     ESTABLISHED\n",
      "  TCP    10.0.0.47:27690        sippoolblu3a06:https   ESTABLISHED\n",
      "  TCP    10.0.0.47:27691        52.173.24.17:https     ESTABLISHED\n",
      "  TCP    10.0.0.47:27695        52.161.25.233:https    ESTABLISHED\n",
      "  TCP    10.0.0.47:27696        52.114.74.43:https     ESTABLISHED\n",
      "  TCP    10.0.0.47:27703        13.78.152.76:https     ESTABLISHED\n",
      "  TCP    10.0.0.47:27706        webpoolblu3a06:https   TIME_WAIT\n",
      "  TCP    10.0.0.47:27715        104.46.116.119:https   ESTABLISHED\n",
      "  TCP    10.0.0.47:27716        40.77.228.47:https     ESTABLISHED\n",
      "  TCP    10.0.0.47:27717        webpoolblu3a06:https   TIME_WAIT\n",
      "  TCP    10.0.0.47:27718        webpoolblu3a06:https   TIME_WAIT\n",
      "  TCP    10.0.0.47:27719        webpoolblu3a06:https   TIME_WAIT\n",
      "  TCP    10.0.0.47:27721        13.107.21.200:https    ESTABLISHED\n",
      "  TCP    127.0.0.1:17450        krkusuk-X1CT3:17451    ESTABLISHED\n",
      "  TCP    127.0.0.1:17451        krkusuk-X1CT3:17450    ESTABLISHED\n",
      "  TCP    127.0.0.1:17478        krkusuk-X1CT3:17546    ESTABLISHED\n",
      "  TCP    127.0.0.1:17479        krkusuk-X1CT3:17508    ESTABLISHED\n",
      "  TCP    127.0.0.1:17479        krkusuk-X1CT3:17549    ESTABLISHED\n",
      "  TCP    127.0.0.1:17480        krkusuk-X1CT3:17552    ESTABLISHED\n",
      "  TCP    127.0.0.1:17481        krkusuk-X1CT3:17510    ESTABLISHED\n",
      "  TCP    127.0.0.1:17483        krkusuk-X1CT3:17484    ESTABLISHED\n",
      "  TCP    127.0.0.1:17484        krkusuk-X1CT3:17483    ESTABLISHED\n",
      "  TCP    127.0.0.1:17485        krkusuk-X1CT3:17486    ESTABLISHED\n",
      "  TCP    127.0.0.1:17486        krkusuk-X1CT3:17485    ESTABLISHED\n",
      "  TCP    127.0.0.1:17487        krkusuk-X1CT3:17488    ESTABLISHED\n",
      "  TCP    127.0.0.1:17488        krkusuk-X1CT3:17487    ESTABLISHED\n",
      "  TCP    127.0.0.1:17489        krkusuk-X1CT3:17490    ESTABLISHED\n",
      "  TCP    127.0.0.1:17490        krkusuk-X1CT3:17489    ESTABLISHED\n",
      "  TCP    127.0.0.1:17492        krkusuk-X1CT3:17493    ESTABLISHED\n",
      "  TCP    127.0.0.1:17493        krkusuk-X1CT3:17492    ESTABLISHED\n",
      "  TCP    127.0.0.1:17508        krkusuk-X1CT3:17479    ESTABLISHED\n",
      "  TCP    127.0.0.1:17510        krkusuk-X1CT3:17481    ESTABLISHED\n",
      "  TCP    127.0.0.1:17511        krkusuk-X1CT3:17512    ESTABLISHED\n",
      "  TCP    127.0.0.1:17512        krkusuk-X1CT3:17511    ESTABLISHED\n",
      "  TCP    127.0.0.1:17513        krkusuk-X1CT3:17514    ESTABLISHED\n",
      "  TCP    127.0.0.1:17514        krkusuk-X1CT3:17513    ESTABLISHED\n",
      "  TCP    127.0.0.1:17515        krkusuk-X1CT3:17516    ESTABLISHED\n",
      "  TCP    127.0.0.1:17516        krkusuk-X1CT3:17515    ESTABLISHED\n",
      "  TCP    127.0.0.1:17517        krkusuk-X1CT3:17518    ESTABLISHED\n",
      "  TCP    127.0.0.1:17518        krkusuk-X1CT3:17517    ESTABLISHED\n",
      "  TCP    127.0.0.1:17519        krkusuk-X1CT3:17520    ESTABLISHED\n",
      "  TCP    127.0.0.1:17520        krkusuk-X1CT3:17519    ESTABLISHED\n",
      "  TCP    127.0.0.1:17521        krkusuk-X1CT3:17522    ESTABLISHED\n",
      "  TCP    127.0.0.1:17522        krkusuk-X1CT3:17521    ESTABLISHED\n",
      "  TCP    127.0.0.1:17523        krkusuk-X1CT3:17524    ESTABLISHED\n",
      "  TCP    127.0.0.1:17524        krkusuk-X1CT3:17523    ESTABLISHED\n",
      "  TCP    127.0.0.1:17525        krkusuk-X1CT3:17526    ESTABLISHED\n",
      "  TCP    127.0.0.1:17526        krkusuk-X1CT3:17525    ESTABLISHED\n",
      "  TCP    127.0.0.1:17527        krkusuk-X1CT3:17528    ESTABLISHED\n",
      "  TCP    127.0.0.1:17528        krkusuk-X1CT3:17527    ESTABLISHED\n",
      "  TCP    127.0.0.1:17530        krkusuk-X1CT3:17531    ESTABLISHED\n",
      "  TCP    127.0.0.1:17531        krkusuk-X1CT3:17530    ESTABLISHED\n",
      "  TCP    127.0.0.1:17532        krkusuk-X1CT3:17533    ESTABLISHED\n",
      "  TCP    127.0.0.1:17533        krkusuk-X1CT3:17532    ESTABLISHED\n",
      "  TCP    127.0.0.1:17534        krkusuk-X1CT3:17535    ESTABLISHED\n",
      "  TCP    127.0.0.1:17535        krkusuk-X1CT3:17534    ESTABLISHED\n",
      "  TCP    127.0.0.1:17536        krkusuk-X1CT3:17537    ESTABLISHED\n",
      "  TCP    127.0.0.1:17537        krkusuk-X1CT3:17536    ESTABLISHED\n",
      "  TCP    127.0.0.1:17538        krkusuk-X1CT3:17539    ESTABLISHED\n",
      "  TCP    127.0.0.1:17539        krkusuk-X1CT3:17538    ESTABLISHED\n",
      "  TCP    127.0.0.1:17540        krkusuk-X1CT3:17541    ESTABLISHED\n",
      "  TCP    127.0.0.1:17541        krkusuk-X1CT3:17540    ESTABLISHED\n",
      "  TCP    127.0.0.1:17542        krkusuk-X1CT3:17543    ESTABLISHED\n",
      "  TCP    127.0.0.1:17543        krkusuk-X1CT3:17542    ESTABLISHED\n",
      "  TCP    127.0.0.1:17544        krkusuk-X1CT3:17545    ESTABLISHED\n",
      "  TCP    127.0.0.1:17545        krkusuk-X1CT3:17544    ESTABLISHED\n",
      "  TCP    127.0.0.1:17546        krkusuk-X1CT3:17478    ESTABLISHED\n",
      "  TCP    127.0.0.1:17547        krkusuk-X1CT3:17548    ESTABLISHED\n",
      "  TCP    127.0.0.1:17548        krkusuk-X1CT3:17547    ESTABLISHED\n",
      "  TCP    127.0.0.1:17549        krkusuk-X1CT3:17479    ESTABLISHED\n",
      "  TCP    127.0.0.1:17550        krkusuk-X1CT3:17551    ESTABLISHED\n",
      "  TCP    127.0.0.1:17551        krkusuk-X1CT3:17550    ESTABLISHED\n",
      "  TCP    127.0.0.1:17552        krkusuk-X1CT3:17480    ESTABLISHED\n",
      "  TCP    127.0.0.1:17586        krkusuk-X1CT3:17587    ESTABLISHED\n",
      "  TCP    127.0.0.1:17587        krkusuk-X1CT3:17586    ESTABLISHED\n",
      "  TCP    [::1]:8888             krkusuk-X1CT3:17495    ESTABLISHED\n",
      "  TCP    [::1]:8888             krkusuk-X1CT3:27723    ESTABLISHED\n",
      "  TCP    [::1]:8888             krkusuk-X1CT3:27724    ESTABLISHED\n",
      "  TCP    [::1]:17495            krkusuk-X1CT3:8888     ESTABLISHED\n",
      "  TCP    [::1]:27686            krkusuk-X1CT3:27688    ESTABLISHED\n",
      "  TCP    [::1]:27688            krkusuk-X1CT3:27686    ESTABLISHED\n",
      "  TCP    [::1]:27723            krkusuk-X1CT3:8888     ESTABLISHED\n",
      "  TCP    [::1]:27724            krkusuk-X1CT3:8888     ESTABLISHED\n",
      "  TCP    [2601:600:8380:69e:3c6c:8d74:6868:80e2]:17077  [2001:559:19:28ab::3114]:http  CLOSE_WAIT\n",
      "  TCP    [2601:600:8380:69e:3c6c:8d74:6868:80e2]:17078  [2001:559:19:28ab::3114]:http  CLOSE_WAIT\n",
      "  TCP    [2601:600:8380:69e:3c6c:8d74:6868:80e2]:17079  [2001:559:19:28ab::3114]:http  CLOSE_WAIT\n",
      "  TCP    [2601:600:8380:69e:3c6c:8d74:6868:80e2]:17080  [2001:559:19:28ab::3114]:http  CLOSE_WAIT\n",
      "  TCP    [2601:600:8380:69e:3c6c:8d74:6868:80e2]:17106  [2001:559:19:28ab::3114]:http  CLOSE_WAIT\n",
      "  TCP    [2601:600:8380:69e:3c6c:8d74:6868:80e2]:27707  [2603:1036:101:4c::2]:https  ESTABLISHED\n",
      "  TCP    [2601:600:8380:69e:3c6c:8d74:6868:80e2]:27781  [2603:1036:102:b7::2]:https  ESTABLISHED\n"
     ]
    }
   ],
   "source": [
    "!netstat"
   ]
  },
  {
   "cell_type": "code",
   "execution_count": 44,
   "metadata": {},
   "outputs": [
    {
     "name": "stderr",
     "output_type": "stream",
     "text": [
      "'sls' is not recognized as an internal or external command,\n",
      "operable program or batch file.\n"
     ]
    }
   ],
   "source": [
    "!dir|sls py"
   ]
  },
  {
   "cell_type": "code",
   "execution_count": 45,
   "metadata": {},
   "outputs": [],
   "source": [
    "%magic"
   ]
  },
  {
   "cell_type": "code",
   "execution_count": 49,
   "metadata": {},
   "outputs": [
    {
     "name": "stdout",
     "output_type": "stream",
     "text": [
      "   4: 'hello'.?\n"
     ]
    }
   ],
   "source": [
    "%history -n 4"
   ]
  },
  {
   "cell_type": "code",
   "execution_count": 51,
   "metadata": {},
   "outputs": [
    {
     "data": {
      "application/json": {
       "cell": {
        "!": "OSMagics",
        "HTML": "Other",
        "SVG": "Other",
        "bash": "Other",
        "capture": "ExecutionMagics",
        "cmd": "Other",
        "debug": "ExecutionMagics",
        "file": "Other",
        "html": "DisplayMagics",
        "javascript": "DisplayMagics",
        "js": "DisplayMagics",
        "latex": "DisplayMagics",
        "markdown": "DisplayMagics",
        "perl": "Other",
        "prun": "ExecutionMagics",
        "pypy": "Other",
        "python": "Other",
        "python2": "Other",
        "python3": "Other",
        "ruby": "Other",
        "script": "ScriptMagics",
        "sh": "Other",
        "svg": "DisplayMagics",
        "sx": "OSMagics",
        "system": "OSMagics",
        "time": "ExecutionMagics",
        "timeit": "ExecutionMagics",
        "writefile": "OSMagics"
       },
       "line": {
        "alias": "OSMagics",
        "alias_magic": "BasicMagics",
        "autocall": "AutoMagics",
        "automagic": "AutoMagics",
        "autosave": "KernelMagics",
        "bookmark": "OSMagics",
        "cd": "OSMagics",
        "clear": "KernelMagics",
        "cls": "KernelMagics",
        "colors": "BasicMagics",
        "config": "ConfigMagics",
        "connect_info": "KernelMagics",
        "copy": "Other",
        "ddir": "Other",
        "debug": "ExecutionMagics",
        "dhist": "OSMagics",
        "dirs": "OSMagics",
        "doctest_mode": "BasicMagics",
        "echo": "Other",
        "ed": "Other",
        "edit": "KernelMagics",
        "env": "OSMagics",
        "gui": "BasicMagics",
        "hist": "Other",
        "history": "HistoryMagics",
        "killbgscripts": "ScriptMagics",
        "ldir": "Other",
        "less": "KernelMagics",
        "load": "CodeMagics",
        "load_ext": "ExtensionMagics",
        "loadpy": "CodeMagics",
        "logoff": "LoggingMagics",
        "logon": "LoggingMagics",
        "logstart": "LoggingMagics",
        "logstate": "LoggingMagics",
        "logstop": "LoggingMagics",
        "ls": "Other",
        "lsmagic": "BasicMagics",
        "macro": "ExecutionMagics",
        "magic": "BasicMagics",
        "matplotlib": "PylabMagics",
        "mkdir": "Other",
        "more": "KernelMagics",
        "notebook": "BasicMagics",
        "page": "BasicMagics",
        "pastebin": "CodeMagics",
        "pdb": "ExecutionMagics",
        "pdef": "NamespaceMagics",
        "pdoc": "NamespaceMagics",
        "pfile": "NamespaceMagics",
        "pinfo": "NamespaceMagics",
        "pinfo2": "NamespaceMagics",
        "pip": "BasicMagics",
        "popd": "OSMagics",
        "pprint": "BasicMagics",
        "precision": "BasicMagics",
        "profile": "BasicMagics",
        "prun": "ExecutionMagics",
        "psearch": "NamespaceMagics",
        "psource": "NamespaceMagics",
        "pushd": "OSMagics",
        "pwd": "OSMagics",
        "pycat": "OSMagics",
        "pylab": "PylabMagics",
        "qtconsole": "KernelMagics",
        "quickref": "BasicMagics",
        "recall": "HistoryMagics",
        "rehashx": "OSMagics",
        "reload_ext": "ExtensionMagics",
        "ren": "Other",
        "rep": "Other",
        "rerun": "HistoryMagics",
        "reset": "NamespaceMagics",
        "reset_selective": "NamespaceMagics",
        "rmdir": "Other",
        "run": "ExecutionMagics",
        "save": "CodeMagics",
        "sc": "OSMagics",
        "set_env": "OSMagics",
        "store": "StoreMagics",
        "sx": "OSMagics",
        "system": "OSMagics",
        "tb": "ExecutionMagics",
        "time": "ExecutionMagics",
        "timeit": "ExecutionMagics",
        "unalias": "OSMagics",
        "unload_ext": "ExtensionMagics",
        "who": "NamespaceMagics",
        "who_ls": "NamespaceMagics",
        "whos": "NamespaceMagics",
        "xdel": "NamespaceMagics",
        "xmode": "BasicMagics"
       }
      },
      "text/plain": [
       "Available line magics:\n",
       "%alias  %alias_magic  %autocall  %automagic  %autosave  %bookmark  %cd  %clear  %cls  %colors  %config  %connect_info  %copy  %ddir  %debug  %dhist  %dirs  %doctest_mode  %echo  %ed  %edit  %env  %gui  %hist  %history  %killbgscripts  %ldir  %less  %load  %load_ext  %loadpy  %logoff  %logon  %logstart  %logstate  %logstop  %ls  %lsmagic  %macro  %magic  %matplotlib  %mkdir  %more  %notebook  %page  %pastebin  %pdb  %pdef  %pdoc  %pfile  %pinfo  %pinfo2  %popd  %pprint  %precision  %profile  %prun  %psearch  %psource  %pushd  %pwd  %pycat  %pylab  %qtconsole  %quickref  %recall  %rehashx  %reload_ext  %ren  %rep  %rerun  %reset  %reset_selective  %rmdir  %run  %save  %sc  %set_env  %store  %sx  %system  %tb  %time  %timeit  %unalias  %unload_ext  %who  %who_ls  %whos  %xdel  %xmode\n",
       "\n",
       "Available cell magics:\n",
       "%%!  %%HTML  %%SVG  %%bash  %%capture  %%cmd  %%debug  %%file  %%html  %%javascript  %%js  %%latex  %%markdown  %%perl  %%prun  %%pypy  %%python  %%python2  %%python3  %%ruby  %%script  %%sh  %%svg  %%sx  %%system  %%time  %%timeit  %%writefile\n",
       "\n",
       "Automagic is ON, % prefix IS NOT needed for line magics."
      ]
     },
     "execution_count": 51,
     "metadata": {},
     "output_type": "execute_result"
    }
   ],
   "source": [
    "lsmagic"
   ]
  },
  {
   "cell_type": "code",
   "execution_count": 52,
   "metadata": {},
   "outputs": [
    {
     "name": "stdout",
     "output_type": "stream",
     "text": [
      "\n",
      "\n",
      "    Directory: C:\\Users\\krkusuk\\study\\python-datascience\n",
      "\n",
      "\n",
      "Mode                LastWriteTime         Length Name                                                                  \n",
      "----                -------------         ------ ----                                                                  \n",
      "d-----        12/4/2018   8:18 PM                .ipynb_checkpoints                                                    \n",
      "d-----       10/14/2018  12:57 PM                Ex_Files_Intro_Analysis_Python                                        \n",
      "-a----        12/4/2018   8:56 PM          17714 basic.ipynb                                                           \n",
      "-a----        9/24/2018  11:39 PM       75849203 Ex_Files_Intro_Analysis_Python.zip                                    \n",
      "\n",
      "\n"
     ]
    }
   ],
   "source": [
    "! powershell ls"
   ]
  },
  {
   "cell_type": "raw",
   "metadata": {},
   "source": [
    "Define Magics\n",
    "In your IPython profile, modify ipython_config.py to include the lines:\n",
    "c.ScriptMagics.script_magics = ['powershell']\n",
    "c.ScriptMagics.script_paths = {\n",
    "        'powershell':'powershell.exe -noprofile -command -'}"
   ]
  },
  {
   "cell_type": "code",
   "execution_count": 66,
   "metadata": {},
   "outputs": [
    {
     "name": "stdout",
     "output_type": "stream",
     "text": [
      "C:\\Users\\krkusuk\\AppData\\Local\\Continuum\\anaconda3\\Scripts\\ipython.exe\n"
     ]
    }
   ],
   "source": [
    "!where ipython"
   ]
  },
  {
   "cell_type": "code",
   "execution_count": 68,
   "metadata": {},
   "outputs": [],
   "source": [
    "!dir C:\\Users\\krkusuk\\AppData\\Local\\Continuum\\anaconda3\\Scripts\\| findstr config"
   ]
  },
  {
   "cell_type": "code",
   "execution_count": 1,
   "metadata": {},
   "outputs": [],
   "source": [
    "%save?"
   ]
  },
  {
   "cell_type": "code",
   "execution_count": 3,
   "metadata": {},
   "outputs": [],
   "source": [
    "%%file?"
   ]
  },
  {
   "cell_type": "code",
   "execution_count": null,
   "metadata": {},
   "outputs": [],
   "source": []
  },
  {
   "cell_type": "code",
   "execution_count": 73,
   "metadata": {},
   "outputs": [],
   "source": [
    "files = !dir"
   ]
  },
  {
   "cell_type": "code",
   "execution_count": 78,
   "metadata": {},
   "outputs": [],
   "source": [
    "!notepad myfile.txt"
   ]
  },
  {
   "cell_type": "code",
   "execution_count": 87,
   "metadata": {},
   "outputs": [],
   "source": [
    "lines = !powershell cat myfile.txt"
   ]
  },
  {
   "cell_type": "code",
   "execution_count": 88,
   "metadata": {},
   "outputs": [
    {
     "name": "stdout",
     "output_type": "stream",
     "text": [
      "['Hello geli', 'hi', \"['Hello geli', 'hi']\"]\n"
     ]
    }
   ],
   "source": [
    "print(lines)"
   ]
  },
  {
   "cell_type": "code",
   "execution_count": 86,
   "metadata": {},
   "outputs": [],
   "source": [
    "!echo {lines}>>myfile.txt"
   ]
  },
  {
   "cell_type": "code",
   "execution_count": null,
   "metadata": {},
   "outputs": [],
   "source": []
  }
 ],
 "metadata": {
  "kernelspec": {
   "display_name": "Python 3",
   "language": "python",
   "name": "python3"
  },
  "language_info": {
   "codemirror_mode": {
    "name": "ipython",
    "version": 3
   },
   "file_extension": ".py",
   "mimetype": "text/x-python",
   "name": "python",
   "nbconvert_exporter": "python",
   "pygments_lexer": "ipython3",
   "version": "3.6.5"
  }
 },
 "nbformat": 4,
 "nbformat_minor": 2
}
